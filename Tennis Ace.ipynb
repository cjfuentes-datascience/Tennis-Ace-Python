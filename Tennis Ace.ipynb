{
 "cells": [
  {
   "cell_type": "code",
   "execution_count": 69,
   "metadata": {},
   "outputs": [],
   "source": [
    "import pandas as pd\n",
    "import matplotlib.pyplot as plt\n",
    "from sklearn.model_selection import train_test_split\n",
    "from sklearn.linear_model import LinearRegression"
   ]
  },
  {
   "cell_type": "code",
   "execution_count": 70,
   "metadata": {},
   "outputs": [],
   "source": [
    "df = pd.read_csv(r\"C:\\Users\\Carlos\\Documents\\Python Projects\\Tennis Ace\\tennis_stats.csv\")"
   ]
  },
  {
   "cell_type": "code",
   "execution_count": 71,
   "metadata": {},
   "outputs": [
    {
     "data": {
      "text/html": [
       "<div>\n",
       "<style scoped>\n",
       "    .dataframe tbody tr th:only-of-type {\n",
       "        vertical-align: middle;\n",
       "    }\n",
       "\n",
       "    .dataframe tbody tr th {\n",
       "        vertical-align: top;\n",
       "    }\n",
       "\n",
       "    .dataframe thead th {\n",
       "        text-align: right;\n",
       "    }\n",
       "</style>\n",
       "<table border=\"1\" class=\"dataframe\">\n",
       "  <thead>\n",
       "    <tr style=\"text-align: right;\">\n",
       "      <th></th>\n",
       "      <th>Player</th>\n",
       "      <th>Year</th>\n",
       "      <th>FirstServe</th>\n",
       "      <th>FirstServePointsWon</th>\n",
       "      <th>FirstServeReturnPointsWon</th>\n",
       "      <th>SecondServePointsWon</th>\n",
       "      <th>SecondServeReturnPointsWon</th>\n",
       "      <th>Aces</th>\n",
       "      <th>BreakPointsConverted</th>\n",
       "      <th>BreakPointsFaced</th>\n",
       "      <th>...</th>\n",
       "      <th>ReturnGamesWon</th>\n",
       "      <th>ReturnPointsWon</th>\n",
       "      <th>ServiceGamesPlayed</th>\n",
       "      <th>ServiceGamesWon</th>\n",
       "      <th>TotalPointsWon</th>\n",
       "      <th>TotalServicePointsWon</th>\n",
       "      <th>Wins</th>\n",
       "      <th>Losses</th>\n",
       "      <th>Winnings</th>\n",
       "      <th>Ranking</th>\n",
       "    </tr>\n",
       "  </thead>\n",
       "  <tbody>\n",
       "    <tr>\n",
       "      <th>0</th>\n",
       "      <td>Pedro Sousa</td>\n",
       "      <td>2016</td>\n",
       "      <td>0.88</td>\n",
       "      <td>0.50</td>\n",
       "      <td>0.38</td>\n",
       "      <td>0.50</td>\n",
       "      <td>0.39</td>\n",
       "      <td>0</td>\n",
       "      <td>0.14</td>\n",
       "      <td>7</td>\n",
       "      <td>...</td>\n",
       "      <td>0.11</td>\n",
       "      <td>0.38</td>\n",
       "      <td>8</td>\n",
       "      <td>0.50</td>\n",
       "      <td>0.43</td>\n",
       "      <td>0.50</td>\n",
       "      <td>1</td>\n",
       "      <td>2</td>\n",
       "      <td>39820</td>\n",
       "      <td>119</td>\n",
       "    </tr>\n",
       "    <tr>\n",
       "      <th>1</th>\n",
       "      <td>Roman Safiullin</td>\n",
       "      <td>2017</td>\n",
       "      <td>0.84</td>\n",
       "      <td>0.62</td>\n",
       "      <td>0.26</td>\n",
       "      <td>0.33</td>\n",
       "      <td>0.07</td>\n",
       "      <td>7</td>\n",
       "      <td>0.00</td>\n",
       "      <td>7</td>\n",
       "      <td>...</td>\n",
       "      <td>0.00</td>\n",
       "      <td>0.20</td>\n",
       "      <td>9</td>\n",
       "      <td>0.67</td>\n",
       "      <td>0.41</td>\n",
       "      <td>0.57</td>\n",
       "      <td>0</td>\n",
       "      <td>1</td>\n",
       "      <td>17334</td>\n",
       "      <td>381</td>\n",
       "    </tr>\n",
       "    <tr>\n",
       "      <th>2</th>\n",
       "      <td>Pedro Sousa</td>\n",
       "      <td>2017</td>\n",
       "      <td>0.83</td>\n",
       "      <td>0.60</td>\n",
       "      <td>0.28</td>\n",
       "      <td>0.53</td>\n",
       "      <td>0.44</td>\n",
       "      <td>2</td>\n",
       "      <td>0.38</td>\n",
       "      <td>10</td>\n",
       "      <td>...</td>\n",
       "      <td>0.16</td>\n",
       "      <td>0.34</td>\n",
       "      <td>17</td>\n",
       "      <td>0.65</td>\n",
       "      <td>0.45</td>\n",
       "      <td>0.59</td>\n",
       "      <td>4</td>\n",
       "      <td>1</td>\n",
       "      <td>109827</td>\n",
       "      <td>119</td>\n",
       "    </tr>\n",
       "    <tr>\n",
       "      <th>3</th>\n",
       "      <td>Rogerio Dutra Silva</td>\n",
       "      <td>2010</td>\n",
       "      <td>0.83</td>\n",
       "      <td>0.64</td>\n",
       "      <td>0.34</td>\n",
       "      <td>0.59</td>\n",
       "      <td>0.33</td>\n",
       "      <td>2</td>\n",
       "      <td>0.33</td>\n",
       "      <td>5</td>\n",
       "      <td>...</td>\n",
       "      <td>0.14</td>\n",
       "      <td>0.34</td>\n",
       "      <td>15</td>\n",
       "      <td>0.80</td>\n",
       "      <td>0.49</td>\n",
       "      <td>0.63</td>\n",
       "      <td>0</td>\n",
       "      <td>0</td>\n",
       "      <td>9761</td>\n",
       "      <td>125</td>\n",
       "    </tr>\n",
       "    <tr>\n",
       "      <th>4</th>\n",
       "      <td>Daniel Gimeno-Traver</td>\n",
       "      <td>2017</td>\n",
       "      <td>0.81</td>\n",
       "      <td>0.54</td>\n",
       "      <td>0.00</td>\n",
       "      <td>0.33</td>\n",
       "      <td>0.33</td>\n",
       "      <td>1</td>\n",
       "      <td>0.00</td>\n",
       "      <td>2</td>\n",
       "      <td>...</td>\n",
       "      <td>0.00</td>\n",
       "      <td>0.20</td>\n",
       "      <td>2</td>\n",
       "      <td>0.50</td>\n",
       "      <td>0.35</td>\n",
       "      <td>0.50</td>\n",
       "      <td>0</td>\n",
       "      <td>1</td>\n",
       "      <td>32879</td>\n",
       "      <td>272</td>\n",
       "    </tr>\n",
       "  </tbody>\n",
       "</table>\n",
       "<p>5 rows × 24 columns</p>\n",
       "</div>"
      ],
      "text/plain": [
       "                 Player  Year  FirstServe  FirstServePointsWon  \\\n",
       "0           Pedro Sousa  2016        0.88                 0.50   \n",
       "1       Roman Safiullin  2017        0.84                 0.62   \n",
       "2           Pedro Sousa  2017        0.83                 0.60   \n",
       "3   Rogerio Dutra Silva  2010        0.83                 0.64   \n",
       "4  Daniel Gimeno-Traver  2017        0.81                 0.54   \n",
       "\n",
       "   FirstServeReturnPointsWon  SecondServePointsWon  \\\n",
       "0                       0.38                  0.50   \n",
       "1                       0.26                  0.33   \n",
       "2                       0.28                  0.53   \n",
       "3                       0.34                  0.59   \n",
       "4                       0.00                  0.33   \n",
       "\n",
       "   SecondServeReturnPointsWon  Aces  BreakPointsConverted  BreakPointsFaced  \\\n",
       "0                        0.39     0                  0.14                 7   \n",
       "1                        0.07     7                  0.00                 7   \n",
       "2                        0.44     2                  0.38                10   \n",
       "3                        0.33     2                  0.33                 5   \n",
       "4                        0.33     1                  0.00                 2   \n",
       "\n",
       "   ...  ReturnGamesWon  ReturnPointsWon  ServiceGamesPlayed  ServiceGamesWon  \\\n",
       "0  ...            0.11             0.38                   8             0.50   \n",
       "1  ...            0.00             0.20                   9             0.67   \n",
       "2  ...            0.16             0.34                  17             0.65   \n",
       "3  ...            0.14             0.34                  15             0.80   \n",
       "4  ...            0.00             0.20                   2             0.50   \n",
       "\n",
       "   TotalPointsWon  TotalServicePointsWon  Wins  Losses  Winnings  Ranking  \n",
       "0            0.43                   0.50     1       2     39820      119  \n",
       "1            0.41                   0.57     0       1     17334      381  \n",
       "2            0.45                   0.59     4       1    109827      119  \n",
       "3            0.49                   0.63     0       0      9761      125  \n",
       "4            0.35                   0.50     0       1     32879      272  \n",
       "\n",
       "[5 rows x 24 columns]"
      ]
     },
     "execution_count": 71,
     "metadata": {},
     "output_type": "execute_result"
    }
   ],
   "source": [
    "df.head()"
   ]
  },
  {
   "cell_type": "code",
   "execution_count": 72,
   "metadata": {},
   "outputs": [
    {
     "data": {
      "text/html": [
       "<div>\n",
       "<style scoped>\n",
       "    .dataframe tbody tr th:only-of-type {\n",
       "        vertical-align: middle;\n",
       "    }\n",
       "\n",
       "    .dataframe tbody tr th {\n",
       "        vertical-align: top;\n",
       "    }\n",
       "\n",
       "    .dataframe thead th {\n",
       "        text-align: right;\n",
       "    }\n",
       "</style>\n",
       "<table border=\"1\" class=\"dataframe\">\n",
       "  <thead>\n",
       "    <tr style=\"text-align: right;\">\n",
       "      <th></th>\n",
       "      <th>Year</th>\n",
       "      <th>FirstServe</th>\n",
       "      <th>FirstServePointsWon</th>\n",
       "      <th>FirstServeReturnPointsWon</th>\n",
       "      <th>SecondServePointsWon</th>\n",
       "      <th>SecondServeReturnPointsWon</th>\n",
       "      <th>Aces</th>\n",
       "      <th>BreakPointsConverted</th>\n",
       "      <th>BreakPointsFaced</th>\n",
       "      <th>BreakPointsOpportunities</th>\n",
       "      <th>...</th>\n",
       "      <th>ReturnGamesWon</th>\n",
       "      <th>ReturnPointsWon</th>\n",
       "      <th>ServiceGamesPlayed</th>\n",
       "      <th>ServiceGamesWon</th>\n",
       "      <th>TotalPointsWon</th>\n",
       "      <th>TotalServicePointsWon</th>\n",
       "      <th>Wins</th>\n",
       "      <th>Losses</th>\n",
       "      <th>Winnings</th>\n",
       "      <th>Ranking</th>\n",
       "    </tr>\n",
       "  </thead>\n",
       "  <tbody>\n",
       "    <tr>\n",
       "      <th>count</th>\n",
       "      <td>1721.000000</td>\n",
       "      <td>1721.000000</td>\n",
       "      <td>1721.000000</td>\n",
       "      <td>1721.000000</td>\n",
       "      <td>1721.000000</td>\n",
       "      <td>1721.000000</td>\n",
       "      <td>1721.000000</td>\n",
       "      <td>1721.000000</td>\n",
       "      <td>1721.000000</td>\n",
       "      <td>1721.000000</td>\n",
       "      <td>...</td>\n",
       "      <td>1721.000000</td>\n",
       "      <td>1721.000000</td>\n",
       "      <td>1721.000000</td>\n",
       "      <td>1721.000000</td>\n",
       "      <td>1721.000000</td>\n",
       "      <td>1721.000000</td>\n",
       "      <td>1721.000000</td>\n",
       "      <td>1721.000000</td>\n",
       "      <td>1.721000e+03</td>\n",
       "      <td>1721.000000</td>\n",
       "    </tr>\n",
       "    <tr>\n",
       "      <th>mean</th>\n",
       "      <td>2013.646717</td>\n",
       "      <td>0.598053</td>\n",
       "      <td>0.680738</td>\n",
       "      <td>0.261673</td>\n",
       "      <td>0.479733</td>\n",
       "      <td>0.466432</td>\n",
       "      <td>97.105171</td>\n",
       "      <td>0.369407</td>\n",
       "      <td>112.003486</td>\n",
       "      <td>102.918071</td>\n",
       "      <td>...</td>\n",
       "      <td>0.173823</td>\n",
       "      <td>0.342208</td>\n",
       "      <td>197.650203</td>\n",
       "      <td>0.715590</td>\n",
       "      <td>0.473155</td>\n",
       "      <td>0.599245</td>\n",
       "      <td>7.876816</td>\n",
       "      <td>9.278908</td>\n",
       "      <td>2.344928e+05</td>\n",
       "      <td>269.610691</td>\n",
       "    </tr>\n",
       "    <tr>\n",
       "      <th>std</th>\n",
       "      <td>2.488018</td>\n",
       "      <td>0.054533</td>\n",
       "      <td>0.070422</td>\n",
       "      <td>0.056639</td>\n",
       "      <td>0.066902</td>\n",
       "      <td>0.068447</td>\n",
       "      <td>137.966077</td>\n",
       "      <td>0.162987</td>\n",
       "      <td>119.247651</td>\n",
       "      <td>122.761670</td>\n",
       "      <td>...</td>\n",
       "      <td>0.080880</td>\n",
       "      <td>0.049369</td>\n",
       "      <td>221.208703</td>\n",
       "      <td>0.123287</td>\n",
       "      <td>0.037139</td>\n",
       "      <td>0.057718</td>\n",
       "      <td>10.183716</td>\n",
       "      <td>8.996450</td>\n",
       "      <td>2.530537e+05</td>\n",
       "      <td>277.341947</td>\n",
       "    </tr>\n",
       "    <tr>\n",
       "      <th>min</th>\n",
       "      <td>2009.000000</td>\n",
       "      <td>0.360000</td>\n",
       "      <td>0.270000</td>\n",
       "      <td>0.000000</td>\n",
       "      <td>0.060000</td>\n",
       "      <td>0.000000</td>\n",
       "      <td>0.000000</td>\n",
       "      <td>0.000000</td>\n",
       "      <td>1.000000</td>\n",
       "      <td>0.000000</td>\n",
       "      <td>...</td>\n",
       "      <td>0.000000</td>\n",
       "      <td>0.000000</td>\n",
       "      <td>0.000000</td>\n",
       "      <td>0.000000</td>\n",
       "      <td>0.220000</td>\n",
       "      <td>0.250000</td>\n",
       "      <td>0.000000</td>\n",
       "      <td>0.000000</td>\n",
       "      <td>1.080000e+02</td>\n",
       "      <td>3.000000</td>\n",
       "    </tr>\n",
       "    <tr>\n",
       "      <th>25%</th>\n",
       "      <td>2012.000000</td>\n",
       "      <td>0.570000</td>\n",
       "      <td>0.650000</td>\n",
       "      <td>0.240000</td>\n",
       "      <td>0.460000</td>\n",
       "      <td>0.440000</td>\n",
       "      <td>7.000000</td>\n",
       "      <td>0.320000</td>\n",
       "      <td>15.000000</td>\n",
       "      <td>9.000000</td>\n",
       "      <td>...</td>\n",
       "      <td>0.130000</td>\n",
       "      <td>0.320000</td>\n",
       "      <td>22.000000</td>\n",
       "      <td>0.670000</td>\n",
       "      <td>0.460000</td>\n",
       "      <td>0.570000</td>\n",
       "      <td>0.000000</td>\n",
       "      <td>2.000000</td>\n",
       "      <td>4.931100e+04</td>\n",
       "      <td>83.000000</td>\n",
       "    </tr>\n",
       "    <tr>\n",
       "      <th>50%</th>\n",
       "      <td>2014.000000</td>\n",
       "      <td>0.600000</td>\n",
       "      <td>0.690000</td>\n",
       "      <td>0.270000</td>\n",
       "      <td>0.490000</td>\n",
       "      <td>0.480000</td>\n",
       "      <td>34.000000</td>\n",
       "      <td>0.380000</td>\n",
       "      <td>55.000000</td>\n",
       "      <td>41.000000</td>\n",
       "      <td>...</td>\n",
       "      <td>0.180000</td>\n",
       "      <td>0.350000</td>\n",
       "      <td>86.000000</td>\n",
       "      <td>0.750000</td>\n",
       "      <td>0.480000</td>\n",
       "      <td>0.610000</td>\n",
       "      <td>3.000000</td>\n",
       "      <td>5.000000</td>\n",
       "      <td>1.252120e+05</td>\n",
       "      <td>166.000000</td>\n",
       "    </tr>\n",
       "    <tr>\n",
       "      <th>75%</th>\n",
       "      <td>2016.000000</td>\n",
       "      <td>0.630000</td>\n",
       "      <td>0.720000</td>\n",
       "      <td>0.290000</td>\n",
       "      <td>0.520000</td>\n",
       "      <td>0.500000</td>\n",
       "      <td>140.000000</td>\n",
       "      <td>0.430000</td>\n",
       "      <td>201.000000</td>\n",
       "      <td>172.000000</td>\n",
       "      <td>...</td>\n",
       "      <td>0.220000</td>\n",
       "      <td>0.370000</td>\n",
       "      <td>348.000000</td>\n",
       "      <td>0.790000</td>\n",
       "      <td>0.500000</td>\n",
       "      <td>0.630000</td>\n",
       "      <td>13.000000</td>\n",
       "      <td>17.000000</td>\n",
       "      <td>3.500750e+05</td>\n",
       "      <td>333.000000</td>\n",
       "    </tr>\n",
       "    <tr>\n",
       "      <th>max</th>\n",
       "      <td>2017.000000</td>\n",
       "      <td>0.880000</td>\n",
       "      <td>0.890000</td>\n",
       "      <td>0.480000</td>\n",
       "      <td>0.920000</td>\n",
       "      <td>0.750000</td>\n",
       "      <td>1185.000000</td>\n",
       "      <td>1.000000</td>\n",
       "      <td>507.000000</td>\n",
       "      <td>573.000000</td>\n",
       "      <td>...</td>\n",
       "      <td>0.560000</td>\n",
       "      <td>0.510000</td>\n",
       "      <td>916.000000</td>\n",
       "      <td>1.000000</td>\n",
       "      <td>0.820000</td>\n",
       "      <td>0.820000</td>\n",
       "      <td>48.000000</td>\n",
       "      <td>36.000000</td>\n",
       "      <td>1.074562e+06</td>\n",
       "      <td>1443.000000</td>\n",
       "    </tr>\n",
       "  </tbody>\n",
       "</table>\n",
       "<p>8 rows × 23 columns</p>\n",
       "</div>"
      ],
      "text/plain": [
       "              Year   FirstServe  FirstServePointsWon  \\\n",
       "count  1721.000000  1721.000000          1721.000000   \n",
       "mean   2013.646717     0.598053             0.680738   \n",
       "std       2.488018     0.054533             0.070422   \n",
       "min    2009.000000     0.360000             0.270000   \n",
       "25%    2012.000000     0.570000             0.650000   \n",
       "50%    2014.000000     0.600000             0.690000   \n",
       "75%    2016.000000     0.630000             0.720000   \n",
       "max    2017.000000     0.880000             0.890000   \n",
       "\n",
       "       FirstServeReturnPointsWon  SecondServePointsWon  \\\n",
       "count                1721.000000           1721.000000   \n",
       "mean                    0.261673              0.479733   \n",
       "std                     0.056639              0.066902   \n",
       "min                     0.000000              0.060000   \n",
       "25%                     0.240000              0.460000   \n",
       "50%                     0.270000              0.490000   \n",
       "75%                     0.290000              0.520000   \n",
       "max                     0.480000              0.920000   \n",
       "\n",
       "       SecondServeReturnPointsWon         Aces  BreakPointsConverted  \\\n",
       "count                 1721.000000  1721.000000           1721.000000   \n",
       "mean                     0.466432    97.105171              0.369407   \n",
       "std                      0.068447   137.966077              0.162987   \n",
       "min                      0.000000     0.000000              0.000000   \n",
       "25%                      0.440000     7.000000              0.320000   \n",
       "50%                      0.480000    34.000000              0.380000   \n",
       "75%                      0.500000   140.000000              0.430000   \n",
       "max                      0.750000  1185.000000              1.000000   \n",
       "\n",
       "       BreakPointsFaced  BreakPointsOpportunities  ...  ReturnGamesWon  \\\n",
       "count       1721.000000               1721.000000  ...     1721.000000   \n",
       "mean         112.003486                102.918071  ...        0.173823   \n",
       "std          119.247651                122.761670  ...        0.080880   \n",
       "min            1.000000                  0.000000  ...        0.000000   \n",
       "25%           15.000000                  9.000000  ...        0.130000   \n",
       "50%           55.000000                 41.000000  ...        0.180000   \n",
       "75%          201.000000                172.000000  ...        0.220000   \n",
       "max          507.000000                573.000000  ...        0.560000   \n",
       "\n",
       "       ReturnPointsWon  ServiceGamesPlayed  ServiceGamesWon  TotalPointsWon  \\\n",
       "count      1721.000000         1721.000000      1721.000000     1721.000000   \n",
       "mean          0.342208          197.650203         0.715590        0.473155   \n",
       "std           0.049369          221.208703         0.123287        0.037139   \n",
       "min           0.000000            0.000000         0.000000        0.220000   \n",
       "25%           0.320000           22.000000         0.670000        0.460000   \n",
       "50%           0.350000           86.000000         0.750000        0.480000   \n",
       "75%           0.370000          348.000000         0.790000        0.500000   \n",
       "max           0.510000          916.000000         1.000000        0.820000   \n",
       "\n",
       "       TotalServicePointsWon         Wins       Losses      Winnings  \\\n",
       "count            1721.000000  1721.000000  1721.000000  1.721000e+03   \n",
       "mean                0.599245     7.876816     9.278908  2.344928e+05   \n",
       "std                 0.057718    10.183716     8.996450  2.530537e+05   \n",
       "min                 0.250000     0.000000     0.000000  1.080000e+02   \n",
       "25%                 0.570000     0.000000     2.000000  4.931100e+04   \n",
       "50%                 0.610000     3.000000     5.000000  1.252120e+05   \n",
       "75%                 0.630000    13.000000    17.000000  3.500750e+05   \n",
       "max                 0.820000    48.000000    36.000000  1.074562e+06   \n",
       "\n",
       "           Ranking  \n",
       "count  1721.000000  \n",
       "mean    269.610691  \n",
       "std     277.341947  \n",
       "min       3.000000  \n",
       "25%      83.000000  \n",
       "50%     166.000000  \n",
       "75%     333.000000  \n",
       "max    1443.000000  \n",
       "\n",
       "[8 rows x 23 columns]"
      ]
     },
     "execution_count": 72,
     "metadata": {},
     "output_type": "execute_result"
    }
   ],
   "source": [
    "df.describe()"
   ]
  },
  {
   "cell_type": "code",
   "execution_count": 73,
   "metadata": {},
   "outputs": [
    {
     "data": {
      "text/plain": [
       "Player                         object\n",
       "Year                            int64\n",
       "FirstServe                    float64\n",
       "FirstServePointsWon           float64\n",
       "FirstServeReturnPointsWon     float64\n",
       "SecondServePointsWon          float64\n",
       "SecondServeReturnPointsWon    float64\n",
       "Aces                            int64\n",
       "BreakPointsConverted          float64\n",
       "BreakPointsFaced                int64\n",
       "BreakPointsOpportunities        int64\n",
       "BreakPointsSaved              float64\n",
       "DoubleFaults                    int64\n",
       "ReturnGamesPlayed               int64\n",
       "ReturnGamesWon                float64\n",
       "ReturnPointsWon               float64\n",
       "ServiceGamesPlayed              int64\n",
       "ServiceGamesWon               float64\n",
       "TotalPointsWon                float64\n",
       "TotalServicePointsWon         float64\n",
       "Wins                            int64\n",
       "Losses                          int64\n",
       "Winnings                        int64\n",
       "Ranking                         int64\n",
       "dtype: object"
      ]
     },
     "execution_count": 73,
     "metadata": {},
     "output_type": "execute_result"
    }
   ],
   "source": [
    "df.dtypes"
   ]
  },
  {
   "attachments": {},
   "cell_type": "markdown",
   "metadata": {},
   "source": [
    "Perform exploratory analysis on the data by plotting different features against the different outcomes."
   ]
  },
  {
   "cell_type": "code",
   "execution_count": 74,
   "metadata": {},
   "outputs": [
    {
     "data": {
      "image/png": "[encoded data removed]",
      "text/plain": [
       "<Figure size 640x480 with 1 Axes>"
      ]
     },
     "metadata": {},
     "output_type": "display_data"
    }
   ],
   "source": [
    "plt.scatter(df.BreakPointsOpportunities, df.Winnings)\n",
    "plt.show()\n",
    "plt.close()"
   ]
  },
  {
   "attachments": {},
   "cell_type": "markdown",
   "metadata": {},
   "source": [
    "Before training the model, split your data into training and test datasets so that you can evaluate your model on the test set. How does your model perform? Plot your model’s predictions on the test set against the actual outcome variable to visualize the performance."
   ]
  },
  {
   "attachments": {},
   "cell_type": "markdown",
   "metadata": {},
   "source": [
    "Our first single feature linear regression model used 'FirstServeReturnPointsWon' as our feature and Winnings as our outcome.\n",
    "\n"
   ]
  },
  {
   "cell_type": "code",
   "execution_count": 75,
   "metadata": {},
   "outputs": [],
   "source": [
    "features = df[['FirstServeReturnPointsWon']]"
   ]
  },
  {
   "cell_type": "code",
   "execution_count": 76,
   "metadata": {},
   "outputs": [],
   "source": [
    "outcome = df[['Winnings']]"
   ]
  },
  {
   "attachments": {},
   "cell_type": "markdown",
   "metadata": {},
   "source": [
    "We utilized scikit-learn’s train_test_split function to split our data into training and test sets:\n",
    "\n"
   ]
  },
  {
   "cell_type": "code",
   "execution_count": 77,
   "metadata": {},
   "outputs": [],
   "source": [
    "features_train, features_test, outcome_train, outcome_test = train_test_split(features, outcome, train_size = 0.8)"
   ]
  },
  {
   "attachments": {},
   "cell_type": "markdown",
   "metadata": {},
   "source": [
    "We then created a linear regression model and trained it on the training data:\n",
    "\n"
   ]
  },
  {
   "cell_type": "code",
   "execution_count": 78,
   "metadata": {},
   "outputs": [],
   "source": [
    "model = LinearRegression()"
   ]
  },
  {
   "cell_type": "code",
   "execution_count": 79,
   "metadata": {},
   "outputs": [
    {
     "data": {
      "text/html": [
       "<style>#sk-container-id-5 {color: black;background-color: white;}#sk-container-id-5 pre{padding: 0;}#sk-container-id-5 div.sk-toggleable {background-color: white;}#sk-container-id-5 label.sk-toggleable__label {cursor: pointer;display: block;width: 100%;margin-bottom: 0;padding: 0.3em;box-sizing: border-box;text-align: center;}#sk-container-id-5 label.sk-toggleable__label-arrow:before {content: \"▸\";float: left;margin-right: 0.25em;color: #696969;}#sk-container-id-5 label.sk-toggleable__label-arrow:hover:before {color: black;}#sk-container-id-5 div.sk-estimator:hover label.sk-toggleable__label-arrow:before {color: black;}#sk-container-id-5 div.sk-toggleable__content {max-height: 0;max-width: 0;overflow: hidden;text-align: left;background-color: #f0f8ff;}#sk-container-id-5 div.sk-toggleable__content pre {margin: 0.2em;color: black;border-radius: 0.25em;background-color: #f0f8ff;}#sk-container-id-5 input.sk-toggleable__control:checked~div.sk-toggleable__content {max-height: 200px;max-width: 100%;overflow: auto;}#sk-container-id-5 input.sk-toggleable__control:checked~label.sk-toggleable__label-arrow:before {content: \"▾\";}#sk-container-id-5 div.sk-estimator input.sk-toggleable__control:checked~label.sk-toggleable__label {background-color: #d4ebff;}#sk-container-id-5 div.sk-label input.sk-toggleable__control:checked~label.sk-toggleable__label {background-color: #d4ebff;}#sk-container-id-5 input.sk-hidden--visually {border: 0;clip: rect(1px 1px 1px 1px);clip: rect(1px, 1px, 1px, 1px);height: 1px;margin: -1px;overflow: hidden;padding: 0;position: absolute;width: 1px;}#sk-container-id-5 div.sk-estimator {font-family: monospace;background-color: #f0f8ff;border: 1px dotted black;border-radius: 0.25em;box-sizing: border-box;margin-bottom: 0.5em;}#sk-container-id-5 div.sk-estimator:hover {background-color: #d4ebff;}#sk-container-id-5 div.sk-parallel-item::after {content: \"\";width: 100%;border-bottom: 1px solid gray;flex-grow: 1;}#sk-container-id-5 div.sk-label:hover label.sk-toggleable__label {background-color: #d4ebff;}#sk-container-id-5 div.sk-serial::before {content: \"\";position: absolute;border-left: 1px solid gray;box-sizing: border-box;top: 0;bottom: 0;left: 50%;z-index: 0;}#sk-container-id-5 div.sk-serial {display: flex;flex-direction: column;align-items: center;background-color: white;padding-right: 0.2em;padding-left: 0.2em;position: relative;}#sk-container-id-5 div.sk-item {position: relative;z-index: 1;}#sk-container-id-5 div.sk-parallel {display: flex;align-items: stretch;justify-content: center;background-color: white;position: relative;}#sk-container-id-5 div.sk-item::before, #sk-container-id-5 div.sk-parallel-item::before {content: \"\";position: absolute;border-left: 1px solid gray;box-sizing: border-box;top: 0;bottom: 0;left: 50%;z-index: -1;}#sk-container-id-5 div.sk-parallel-item {display: flex;flex-direction: column;z-index: 1;position: relative;background-color: white;}#sk-container-id-5 div.sk-parallel-item:first-child::after {align-self: flex-end;width: 50%;}#sk-container-id-5 div.sk-parallel-item:last-child::after {align-self: flex-start;width: 50%;}#sk-container-id-5 div.sk-parallel-item:only-child::after {width: 0;}#sk-container-id-5 div.sk-dashed-wrapped {border: 1px dashed gray;margin: 0 0.4em 0.5em 0.4em;box-sizing: border-box;padding-bottom: 0.4em;background-color: white;}#sk-container-id-5 div.sk-label label {font-family: monospace;font-weight: bold;display: inline-block;line-height: 1.2em;}#sk-container-id-5 div.sk-label-container {text-align: center;}#sk-container-id-5 div.sk-container {/* jupyter's `normalize.less` sets `[hidden] { display: none; }` but bootstrap.min.css set `[hidden] { display: none !important; }` so we also need the `!important` here to be able to override the default hidden behavior on the sphinx rendered scikit-learn.org. See: https://github.com/scikit-learn/scikit-learn/issues/21755 */display: inline-block !important;position: relative;}#sk-container-id-5 div.sk-text-repr-fallback {display: none;}</style><div id=\"sk-container-id-5\" class=\"sk-top-container\"><div class=\"sk-text-repr-fallback\"><pre>LinearRegression()</pre><b>In a Jupyter environment, please rerun this cell to show the HTML representation or trust the notebook. <br />On GitHub, the HTML representation is unable to render, please try loading this page with nbviewer.org.</b></div><div class=\"sk-container\" hidden><div class=\"sk-item\"><div class=\"sk-estimator sk-toggleable\"><input class=\"sk-toggleable__control sk-hidden--visually\" id=\"sk-estimator-id-5\" type=\"checkbox\" checked><label for=\"sk-estimator-id-5\" class=\"sk-toggleable__label sk-toggleable__label-arrow\">LinearRegression</label><div class=\"sk-toggleable__content\"><pre>LinearRegression()</pre></div></div></div></div></div>"
      ],
      "text/plain": [
       "LinearRegression()"
      ]
     },
     "execution_count": 79,
     "metadata": {},
     "output_type": "execute_result"
    }
   ],
   "source": [
    "model.fit(features_train, outcome_train)"
   ]
  },
  {
   "attachments": {},
   "cell_type": "markdown",
   "metadata": {},
   "source": [
    "To score the model on the test data, we used our LinearRegression object’s .score() method.\n",
    "\n"
   ]
  },
  {
   "cell_type": "code",
   "execution_count": 80,
   "metadata": {},
   "outputs": [
    {
     "data": {
      "text/plain": [
       "0.0532666921406455"
      ]
     },
     "execution_count": 80,
     "metadata": {},
     "output_type": "execute_result"
    }
   ],
   "source": [
    "model.score(features_test, outcome_test)"
   ]
  },
  {
   "attachments": {},
   "cell_type": "markdown",
   "metadata": {},
   "source": [
    "We then found the predicted outcome based on our model and plotted it against the actual outcome:\n",
    "\n"
   ]
  },
  {
   "cell_type": "code",
   "execution_count": 81,
   "metadata": {},
   "outputs": [],
   "source": [
    "prediction = model.predict(features_test)"
   ]
  },
  {
   "cell_type": "code",
   "execution_count": 82,
   "metadata": {},
   "outputs": [
    {
     "data": {
      "image/png": "[encoded data removed]",
      "text/plain": [
       "<Figure size 640x480 with 1 Axes>"
      ]
     },
     "metadata": {},
     "output_type": "display_data"
    }
   ],
   "source": [
    "plt.scatter(outcome_test, prediction, alpha = 0.4)\n",
    "plt.show()"
   ]
  },
  {
   "attachments": {},
   "cell_type": "markdown",
   "metadata": {},
   "source": [
    "Create a few more linear regression models that use one feature to predict one of the outcomes."
   ]
  },
  {
   "cell_type": "code",
   "execution_count": 83,
   "metadata": {},
   "outputs": [],
   "source": [
    "features = df[['BreakPointsOpportunities']]"
   ]
  },
  {
   "cell_type": "code",
   "execution_count": 84,
   "metadata": {},
   "outputs": [],
   "source": [
    "outcome = df[['Winnings']]"
   ]
  },
  {
   "cell_type": "code",
   "execution_count": 85,
   "metadata": {},
   "outputs": [],
   "source": [
    "features_train, features_test, outcome_train, outcome_test = train_test_split(features, outcome, train_size = 0.8)"
   ]
  },
  {
   "cell_type": "code",
   "execution_count": 86,
   "metadata": {},
   "outputs": [
    {
     "data": {
      "text/html": [
       "<style>#sk-container-id-6 {color: black;background-color: white;}#sk-container-id-6 pre{padding: 0;}#sk-container-id-6 div.sk-toggleable {background-color: white;}#sk-container-id-6 label.sk-toggleable__label {cursor: pointer;display: block;width: 100%;margin-bottom: 0;padding: 0.3em;box-sizing: border-box;text-align: center;}#sk-container-id-6 label.sk-toggleable__label-arrow:before {content: \"▸\";float: left;margin-right: 0.25em;color: #696969;}#sk-container-id-6 label.sk-toggleable__label-arrow:hover:before {color: black;}#sk-container-id-6 div.sk-estimator:hover label.sk-toggleable__label-arrow:before {color: black;}#sk-container-id-6 div.sk-toggleable__content {max-height: 0;max-width: 0;overflow: hidden;text-align: left;background-color: #f0f8ff;}#sk-container-id-6 div.sk-toggleable__content pre {margin: 0.2em;color: black;border-radius: 0.25em;background-color: #f0f8ff;}#sk-container-id-6 input.sk-toggleable__control:checked~div.sk-toggleable__content {max-height: 200px;max-width: 100%;overflow: auto;}#sk-container-id-6 input.sk-toggleable__control:checked~label.sk-toggleable__label-arrow:before {content: \"▾\";}#sk-container-id-6 div.sk-estimator input.sk-toggleable__control:checked~label.sk-toggleable__label {background-color: #d4ebff;}#sk-container-id-6 div.sk-label input.sk-toggleable__control:checked~label.sk-toggleable__label {background-color: #d4ebff;}#sk-container-id-6 input.sk-hidden--visually {border: 0;clip: rect(1px 1px 1px 1px);clip: rect(1px, 1px, 1px, 1px);height: 1px;margin: -1px;overflow: hidden;padding: 0;position: absolute;width: 1px;}#sk-container-id-6 div.sk-estimator {font-family: monospace;background-color: #f0f8ff;border: 1px dotted black;border-radius: 0.25em;box-sizing: border-box;margin-bottom: 0.5em;}#sk-container-id-6 div.sk-estimator:hover {background-color: #d4ebff;}#sk-container-id-6 div.sk-parallel-item::after {content: \"\";width: 100%;border-bottom: 1px solid gray;flex-grow: 1;}#sk-container-id-6 div.sk-label:hover label.sk-toggleable__label {background-color: #d4ebff;}#sk-container-id-6 div.sk-serial::before {content: \"\";position: absolute;border-left: 1px solid gray;box-sizing: border-box;top: 0;bottom: 0;left: 50%;z-index: 0;}#sk-container-id-6 div.sk-serial {display: flex;flex-direction: column;align-items: center;background-color: white;padding-right: 0.2em;padding-left: 0.2em;position: relative;}#sk-container-id-6 div.sk-item {position: relative;z-index: 1;}#sk-container-id-6 div.sk-parallel {display: flex;align-items: stretch;justify-content: center;background-color: white;position: relative;}#sk-container-id-6 div.sk-item::before, #sk-container-id-6 div.sk-parallel-item::before {content: \"\";position: absolute;border-left: 1px solid gray;box-sizing: border-box;top: 0;bottom: 0;left: 50%;z-index: -1;}#sk-container-id-6 div.sk-parallel-item {display: flex;flex-direction: column;z-index: 1;position: relative;background-color: white;}#sk-container-id-6 div.sk-parallel-item:first-child::after {align-self: flex-end;width: 50%;}#sk-container-id-6 div.sk-parallel-item:last-child::after {align-self: flex-start;width: 50%;}#sk-container-id-6 div.sk-parallel-item:only-child::after {width: 0;}#sk-container-id-6 div.sk-dashed-wrapped {border: 1px dashed gray;margin: 0 0.4em 0.5em 0.4em;box-sizing: border-box;padding-bottom: 0.4em;background-color: white;}#sk-container-id-6 div.sk-label label {font-family: monospace;font-weight: bold;display: inline-block;line-height: 1.2em;}#sk-container-id-6 div.sk-label-container {text-align: center;}#sk-container-id-6 div.sk-container {/* jupyter's `normalize.less` sets `[hidden] { display: none; }` but bootstrap.min.css set `[hidden] { display: none !important; }` so we also need the `!important` here to be able to override the default hidden behavior on the sphinx rendered scikit-learn.org. See: https://github.com/scikit-learn/scikit-learn/issues/21755 */display: inline-block !important;position: relative;}#sk-container-id-6 div.sk-text-repr-fallback {display: none;}</style><div id=\"sk-container-id-6\" class=\"sk-top-container\"><div class=\"sk-text-repr-fallback\"><pre>LinearRegression()</pre><b>In a Jupyter environment, please rerun this cell to show the HTML representation or trust the notebook. <br />On GitHub, the HTML representation is unable to render, please try loading this page with nbviewer.org.</b></div><div class=\"sk-container\" hidden><div class=\"sk-item\"><div class=\"sk-estimator sk-toggleable\"><input class=\"sk-toggleable__control sk-hidden--visually\" id=\"sk-estimator-id-6\" type=\"checkbox\" checked><label for=\"sk-estimator-id-6\" class=\"sk-toggleable__label sk-toggleable__label-arrow\">LinearRegression</label><div class=\"sk-toggleable__content\"><pre>LinearRegression()</pre></div></div></div></div></div>"
      ],
      "text/plain": [
       "LinearRegression()"
      ]
     },
     "execution_count": 86,
     "metadata": {},
     "output_type": "execute_result"
    }
   ],
   "source": [
    "model.fit(features_train, outcome_train)"
   ]
  },
  {
   "cell_type": "code",
   "execution_count": 87,
   "metadata": {},
   "outputs": [
    {
     "data": {
      "text/plain": [
       "0.8644259175713527"
      ]
     },
     "execution_count": 87,
     "metadata": {},
     "output_type": "execute_result"
    }
   ],
   "source": [
    "model.score(features_test, outcome_test)"
   ]
  },
  {
   "cell_type": "code",
   "execution_count": 88,
   "metadata": {},
   "outputs": [],
   "source": [
    "prediction = model.predict(features_test)"
   ]
  },
  {
   "cell_type": "code",
   "execution_count": 89,
   "metadata": {},
   "outputs": [
    {
     "data": {
      "image/png": "[encoded data removed]",
      "text/plain": [
       "<Figure size 640x480 with 1 Axes>"
      ]
     },
     "metadata": {},
     "output_type": "display_data"
    }
   ],
   "source": [
    "plt.scatter(outcome_test, prediction, alpha = 0.4)\n",
    "plt.show()\n",
    "plt.close()"
   ]
  },
  {
   "cell_type": "code",
   "execution_count": null,
   "metadata": {},
   "outputs": [],
   "source": []
  }
 ],
 "metadata": {
  "kernelspec": {
   "display_name": "Python 3",
   "language": "python",
   "name": "python3"
  },
  "language_info": {
   "codemirror_mode": {
    "name": "ipython",
    "version": 3
   },
   "file_extension": ".py",
   "mimetype": "text/x-python",
   "name": "python",
   "nbconvert_exporter": "python",
   "pygments_lexer": "ipython3",
   "version": "3.10.9"
  },
  "orig_nbformat": 4,
  "vscode": {
   "interpreter": {
    "hash": "da41a09902426c17f8b1259e92b559cedcb2a26624b80b6e2df84a72ad457b4e"
   }
  }
 },
 "nbformat": 4,
 "nbformat_minor": 2
}
